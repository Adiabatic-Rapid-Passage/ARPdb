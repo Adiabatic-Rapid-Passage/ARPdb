{
 "cells": [
  {
   "cell_type": "code",
   "execution_count": 1,
   "id": "0ed9bbe3",
   "metadata": {},
   "outputs": [],
   "source": [
    "import matplotlib.pyplot as plt\n",
    "import csv\n",
    "import numpy as np\n",
    "import math\n",
    "import os \n",
    "import re\n",
    "import pandas as pd\n",
    "import sys\n",
    "import seaborn as sns\n",
    "import re\n",
    "\n",
    "import plotly.graph_objs as go\n",
    "from databaseMaker import create"
   ]
  },
  {
   "cell_type": "code",
   "execution_count": 2,
   "id": "3935e37c",
   "metadata": {},
   "outputs": [],
   "source": [
    "dfDict, backDict = create()"
   ]
  },
  {
   "cell_type": "code",
   "execution_count": null,
   "id": "1b9faa40",
   "metadata": {},
   "outputs": [],
   "source": [
    "sns.heatmap(df200, center =0,xticklabels=4, yticklabels=False,cbar=False)"
   ]
  },
  {
   "cell_type": "code",
   "execution_count": null,
   "id": "54695ab5",
   "metadata": {},
   "outputs": [],
   "source": [
    "f, (ax1,ax2)=plt.subplots(2,1, figsize=(8,8))\n",
    "\n",
    "sns.heatmap(df, xticklabels=False,cmap=sns.color_palette(\"magma\", as_cmap=True),yticklabels=False,cbar=False, ax=ax1)\n",
    "parts = [df[df.columns[:24]],df[df.columns[25:29]]-.8,df[df.columns[30:]]]\n",
    "newdf=pd.concat(parts, axis=1)\n",
    "sns.heatmap(newdf, xticklabels=False,cmap=sns.color_palette(\"magma\", as_cmap=True),yticklabels=False,cbar=False, ax=ax2)\n",
    "\n",
    "# offset = (df.columns[-1]-df.columns[0])/len(df.columns)*.5\n",
    "# ax2.set_xlim([df.columns[0]-offset,df.columns[-1]+offset])\n",
    "# ax1.set_ylim([500,0])\n",
    "# ax2.set_ylim([500,0])\n",
    "# ax2.tick_params(top=True)\n",
    "# ax2.set_xticklabels(ax2.get_xticks(), minor=False)\n"
   ]
  },
  {
   "cell_type": "code",
   "execution_count": null,
   "id": "410e8936",
   "metadata": {},
   "outputs": [],
   "source": [
    "#new dataframe with intensities weighted by position (for centroid plot) \n",
    "# wdf=pd.DataFrame()\n",
    "# for i in df.columns.tolist():\n",
    "#     wdf[i]=df[i]*df.index\n",
    "\n",
    "# wdf=pd.DataFrame()\n",
    "# for i in newdf.columns.tolist():\n",
    "#     wdf[i]=newdf[i]*newdf.index\n",
    "\n",
    "\n",
    "#Centroid/maximum data\n",
    "# linedat=pd.DataFrame()\n",
    "# linedat['mean']=wdf.mean(axis=0)\n",
    "# linedat['std']=wdf.std(axis=0)\n",
    "# linedat['detuning']=linedat.index.tolist()\n",
    "# linedat['max']=df.idxmax()\n",
    "\n",
    "linedat100=pd.DataFrame()\n",
    "linedat200=pd.DataFrame()\n",
    "# linedat['mean']=wdf.mean(axis=0)\n",
    "# linedat['std']=wdf.std(axis=0)\n",
    "\n",
    "linedat100['max']=df100.idxmax()\n",
    "linedat100['detuning']=linedat100.index.tolist()\n",
    "\n",
    "linedat200['max']=df200.idxmax()\n",
    "linedat200['detuning']=linedat200.index.tolist()\n",
    "\n",
    "\n",
    "\n",
    "\n"
   ]
  },
  {
   "cell_type": "code",
   "execution_count": null,
   "id": "55866329",
   "metadata": {},
   "outputs": [],
   "source": [
    "f, ((ax2,ax1),(ax4,ax3))=plt.subplots(2,2, figsize=(16,8))\n",
    "\n",
    "\n",
    "sns.heatmap(df100, vmin=0, vmax = df200.max().max(),xticklabels=False,cmap=sns.color_palette(\"magma\", as_cmap=True),yticklabels=False,cbar=False, ax=ax2)\n",
    "\n",
    "sns.heatmap(df200, vmin=0, vmax = df200.max().max(),xticklabels=False,cmap=sns.color_palette(\"magma\", as_cmap=True),yticklabels=False,cbar=False, ax=ax1)\n",
    "\n",
    "sns.lineplot(x='detuning',y='max',data=linedat100,ax=ax4)\n",
    "sns.lineplot(x='detuning',y='max',data=linedat200,ax=ax3)\n",
    "\n",
    "offset100 = (df100.columns[-1]-df100.columns[0])/len(df100.columns)*.5\n",
    "ax4.set_xlim([df100.columns[0]-offset100,df100.columns[-1]+offset100])\n",
    "\n",
    "offset200 = (df200.columns[-1]-df200.columns[0])/len(df200.columns)*.5\n",
    "ax3.set_xlim([df200.columns[0]-offset200,df200.columns[-1]+offset200])\n",
    "\n",
    "ax2.set_ylim([510,100])\n",
    "ax1.set_ylim([510,100])\n",
    "ax3.set_ylim([510,100])\n",
    "ax4.set_ylim([510,100])\n",
    "# ax2.tick_params(top=True)\n",
    "# ax2.set_xticklabels(ax2.get_xticks(), minor=False)\n"
   ]
  },
  {
   "cell_type": "code",
   "execution_count": null,
   "id": "81610ef1",
   "metadata": {},
   "outputs": [],
   "source": [
    "f, ax=plt.subplots(figsize=(8,4))\n",
    "\n",
    "sns.lineplot(x='detuning',y='max',data=linedat100,ax=ax)\n",
    "sns.lineplot(x='detuning',y='max',data=linedat200,ax=ax)\n",
    "ax.set_ylim([510,350])"
   ]
  },
  {
   "cell_type": "code",
   "execution_count": null,
   "id": "56be9eaa",
   "metadata": {},
   "outputs": [],
   "source": [
    "f, (ax1,ax2)=plt.subplots(2,1, figsize=(8,8))\n",
    "\n",
    "sns.heatmap(newdf, xticklabels=False,cmap=sns.color_palette(\"magma\", as_cmap=True),yticklabels=False,cbar=False, ax=ax1)\n",
    "sns.lineplot(x='detuning',y='mean',data=linedat, ax=ax2)\n",
    "offset = (df.columns[-1]-df.columns[0])/len(df.columns)*.5\n",
    "ax2.set_xlim([df.columns[0]-offset,df.columns[-1]+offset])\n",
    "ax1.set_ylim([500,0])\n",
    "\n",
    "ax2.tick_params(top=True)\n",
    "ax2.set_xticklabels(ax2.get_xticks(), minor=False)\n"
   ]
  },
  {
   "cell_type": "code",
   "execution_count": null,
   "id": "ba68bf70",
   "metadata": {},
   "outputs": [],
   "source": [
    "#Just testing: what's the shape of the data?\n",
    "%matplotlib widget\n",
    "fig, ax = plt.subplots()\n",
    "\n",
    "line = sns.lineplot(x=df.index,y=10,data=df)\n",
    "plt.subplots_adjust(left=0.25, bottom=0.25)\n",
    "axamp = plt.axes([0.1, 0.25, 0.0225, 0.63])\n",
    "detuning_slider = Slider(\n",
    "    ax=axamp,\n",
    "    label='Detuning',\n",
    "    valmin=df.columns[0],\n",
    "    valmax=df.columns[-1],\n",
    "    valstep=20,\n",
    "    valinit=10,\n",
    "    orientation=\"vertical\"\n",
    ")\n",
    "\n",
    "def update(val):\n",
    "    line.set_ydata(df[detuning_slider.val])\n",
    "    fig.canvas.draw_idle()\n",
    "    \n",
    "detuning_slider.on_changed(update)"
   ]
  },
  {
   "cell_type": "code",
   "execution_count": null,
   "id": "9730b05e",
   "metadata": {},
   "outputs": [],
   "source": [
    "line = sns.lineplot(x=df200.index,y=10,data=df200)"
   ]
  },
  {
   "cell_type": "code",
   "execution_count": null,
   "id": "dd87899e",
   "metadata": {},
   "outputs": [],
   "source": []
  }
 ],
 "metadata": {
  "kernelspec": {
   "display_name": "Python 3 (ipykernel)",
   "language": "python",
   "name": "python3"
  },
  "language_info": {
   "codemirror_mode": {
    "name": "ipython",
    "version": 3
   },
   "file_extension": ".py",
   "mimetype": "text/x-python",
   "name": "python",
   "nbconvert_exporter": "python",
   "pygments_lexer": "ipython3",
   "version": "3.9.7"
  }
 },
 "nbformat": 4,
 "nbformat_minor": 5
}
